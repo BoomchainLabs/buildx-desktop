{
 "cells": [
  {
   "cell_type": "code",
   "execution_count": null,
   "id": "480be577-b07b-4cec-8c05-f4cd9ca8d51c",
   "metadata": {},
   "outputs": [],
   "source": [
    "docker login -u boomchaindock"
   ]
  },
  {
   "cell_type": "markdown",
   "id": "7728a229-b6c9-4c99-a293-c90ec119d15c",
   "metadata": {},
   "source": []
  },
  {
   "cell_type": "raw",
   "id": "011dac50-e1d6-4d4f-a2a8-5d7c60be9469",
   "metadata": {},
   "source": []
  }
 ],
 "metadata": {
  "kernelspec": {
   "display_name": "Python 3 (ipykernel)",
   "language": "python",
   "name": "python3"
  },
  "language_info": {
   "codemirror_mode": {
    "name": "ipython",
    "version": 3
   },
   "file_extension": ".py",
   "mimetype": "text/x-python",
   "name": "python",
   "nbconvert_exporter": "python",
   "pygments_lexer": "ipython3",
   "version": "3.12.1"
  }
 },
 "nbformat": 4,
 "nbformat_minor": 5
}
